{
  "nbformat": 4,
  "nbformat_minor": 0,
  "metadata": {
    "colab": {
      "name": "SciKitLearnPractice.ipynb",
      "provenance": [],
      "authorship_tag": "ABX9TyPS5UqIm94QsVpH3wh+6yR+",
      "include_colab_link": true
    },
    "kernelspec": {
      "name": "python3",
      "display_name": "Python 3"
    },
    "language_info": {
      "name": "python"
    }
  },
  "cells": [
    {
      "cell_type": "markdown",
      "metadata": {
        "id": "view-in-github",
        "colab_type": "text"
      },
      "source": [
        "<a href=\"https://colab.research.google.com/github/sydoky/SciKitLearnPractice/blob/main/SciKitLearnPractice.ipynb\" target=\"_parent\"><img src=\"https://colab.research.google.com/assets/colab-badge.svg\" alt=\"Open In Colab\"/></a>"
      ]
    },
    {
      "cell_type": "code",
      "metadata": {
        "id": "gyK5WS5ZVevG"
      },
      "source": [
        "import pandas as pd\n",
        "import numpy as np\n",
        "import matplotlib.pyplot as plt"
      ],
      "execution_count": 198,
      "outputs": []
    },
    {
      "cell_type": "code",
      "metadata": {
        "id": "rCb8GTrWWPCr"
      },
      "source": [
        "heart_disease = pd.read_csv(\"/content/heart-disease.csv\")"
      ],
      "execution_count": 199,
      "outputs": []
    },
    {
      "cell_type": "code",
      "metadata": {
        "colab": {
          "base_uri": "https://localhost:8080/",
          "height": 206
        },
        "id": "pRfG99T_WXUS",
        "outputId": "c65cbd41-6e87-4803-f490-9f41a065eb9e"
      },
      "source": [
        "heart_disease.head(5)"
      ],
      "execution_count": 200,
      "outputs": [
        {
          "output_type": "execute_result",
          "data": {
            "text/html": [
              "<div>\n",
              "<style scoped>\n",
              "    .dataframe tbody tr th:only-of-type {\n",
              "        vertical-align: middle;\n",
              "    }\n",
              "\n",
              "    .dataframe tbody tr th {\n",
              "        vertical-align: top;\n",
              "    }\n",
              "\n",
              "    .dataframe thead th {\n",
              "        text-align: right;\n",
              "    }\n",
              "</style>\n",
              "<table border=\"1\" class=\"dataframe\">\n",
              "  <thead>\n",
              "    <tr style=\"text-align: right;\">\n",
              "      <th></th>\n",
              "      <th>age</th>\n",
              "      <th>sex</th>\n",
              "      <th>cp</th>\n",
              "      <th>trestbps</th>\n",
              "      <th>chol</th>\n",
              "      <th>fbs</th>\n",
              "      <th>restecg</th>\n",
              "      <th>thalach</th>\n",
              "      <th>exang</th>\n",
              "      <th>oldpeak</th>\n",
              "      <th>slope</th>\n",
              "      <th>ca</th>\n",
              "      <th>thal</th>\n",
              "      <th>target</th>\n",
              "    </tr>\n",
              "  </thead>\n",
              "  <tbody>\n",
              "    <tr>\n",
              "      <th>0</th>\n",
              "      <td>63</td>\n",
              "      <td>1</td>\n",
              "      <td>3</td>\n",
              "      <td>145</td>\n",
              "      <td>233</td>\n",
              "      <td>1</td>\n",
              "      <td>0</td>\n",
              "      <td>150</td>\n",
              "      <td>0</td>\n",
              "      <td>2.3</td>\n",
              "      <td>0</td>\n",
              "      <td>0</td>\n",
              "      <td>1</td>\n",
              "      <td>1</td>\n",
              "    </tr>\n",
              "    <tr>\n",
              "      <th>1</th>\n",
              "      <td>37</td>\n",
              "      <td>1</td>\n",
              "      <td>2</td>\n",
              "      <td>130</td>\n",
              "      <td>250</td>\n",
              "      <td>0</td>\n",
              "      <td>1</td>\n",
              "      <td>187</td>\n",
              "      <td>0</td>\n",
              "      <td>3.5</td>\n",
              "      <td>0</td>\n",
              "      <td>0</td>\n",
              "      <td>2</td>\n",
              "      <td>1</td>\n",
              "    </tr>\n",
              "    <tr>\n",
              "      <th>2</th>\n",
              "      <td>41</td>\n",
              "      <td>0</td>\n",
              "      <td>1</td>\n",
              "      <td>130</td>\n",
              "      <td>204</td>\n",
              "      <td>0</td>\n",
              "      <td>0</td>\n",
              "      <td>172</td>\n",
              "      <td>0</td>\n",
              "      <td>1.4</td>\n",
              "      <td>2</td>\n",
              "      <td>0</td>\n",
              "      <td>2</td>\n",
              "      <td>1</td>\n",
              "    </tr>\n",
              "    <tr>\n",
              "      <th>3</th>\n",
              "      <td>56</td>\n",
              "      <td>1</td>\n",
              "      <td>1</td>\n",
              "      <td>120</td>\n",
              "      <td>236</td>\n",
              "      <td>0</td>\n",
              "      <td>1</td>\n",
              "      <td>178</td>\n",
              "      <td>0</td>\n",
              "      <td>0.8</td>\n",
              "      <td>2</td>\n",
              "      <td>0</td>\n",
              "      <td>2</td>\n",
              "      <td>1</td>\n",
              "    </tr>\n",
              "    <tr>\n",
              "      <th>4</th>\n",
              "      <td>57</td>\n",
              "      <td>0</td>\n",
              "      <td>0</td>\n",
              "      <td>120</td>\n",
              "      <td>354</td>\n",
              "      <td>0</td>\n",
              "      <td>1</td>\n",
              "      <td>163</td>\n",
              "      <td>1</td>\n",
              "      <td>0.6</td>\n",
              "      <td>2</td>\n",
              "      <td>0</td>\n",
              "      <td>2</td>\n",
              "      <td>1</td>\n",
              "    </tr>\n",
              "  </tbody>\n",
              "</table>\n",
              "</div>"
            ],
            "text/plain": [
              "   age  sex  cp  trestbps  chol  fbs  ...  exang  oldpeak  slope  ca  thal  target\n",
              "0   63    1   3       145   233    1  ...      0      2.3      0   0     1       1\n",
              "1   37    1   2       130   250    0  ...      0      3.5      0   0     2       1\n",
              "2   41    0   1       130   204    0  ...      0      1.4      2   0     2       1\n",
              "3   56    1   1       120   236    0  ...      0      0.8      2   0     2       1\n",
              "4   57    0   0       120   354    0  ...      1      0.6      2   0     2       1\n",
              "\n",
              "[5 rows x 14 columns]"
            ]
          },
          "metadata": {},
          "execution_count": 200
        }
      ]
    },
    {
      "cell_type": "code",
      "metadata": {
        "id": "AX0ECEXUXeuW"
      },
      "source": [
        "#Question 2\n",
        "\n",
        "X = heart_disease.drop(\"target\",axis=1)\n",
        "y = heart_disease[\"target\"]\n"
      ],
      "execution_count": 201,
      "outputs": []
    },
    {
      "cell_type": "code",
      "metadata": {
        "id": "YYGiJ-9_YImF"
      },
      "source": [
        "from sklearn.model_selection import train_test_split\n",
        "np.random.seed(42)\n",
        "\n",
        "X_train,X_test, y_train,y_test = train_test_split(X, y, test_size=0.20)"
      ],
      "execution_count": 202,
      "outputs": []
    },
    {
      "cell_type": "code",
      "metadata": {
        "colab": {
          "base_uri": "https://localhost:8080/"
        },
        "id": "f4E6ksf4Zevx",
        "outputId": "8a7b93a3-0b2a-4811-8c7e-4a23fea6205e"
      },
      "source": [
        "X.shape"
      ],
      "execution_count": 203,
      "outputs": [
        {
          "output_type": "execute_result",
          "data": {
            "text/plain": [
              "(303, 13)"
            ]
          },
          "metadata": {},
          "execution_count": 203
        }
      ]
    },
    {
      "cell_type": "code",
      "metadata": {
        "colab": {
          "base_uri": "https://localhost:8080/"
        },
        "id": "yKo28ZJNZKKw",
        "outputId": "0a2a4d58-da48-4be7-8961-3ae981a2ef3c"
      },
      "source": [
        "X_train.shape"
      ],
      "execution_count": 204,
      "outputs": [
        {
          "output_type": "execute_result",
          "data": {
            "text/plain": [
              "(242, 13)"
            ]
          },
          "metadata": {},
          "execution_count": 204
        }
      ]
    },
    {
      "cell_type": "code",
      "metadata": {
        "colab": {
          "base_uri": "https://localhost:8080/"
        },
        "id": "SF5w_LVeZV1A",
        "outputId": "d91f6db8-35c6-4976-fcf4-b418e989df19"
      },
      "source": [
        "X_test.shape"
      ],
      "execution_count": 205,
      "outputs": [
        {
          "output_type": "execute_result",
          "data": {
            "text/plain": [
              "(61, 13)"
            ]
          },
          "metadata": {},
          "execution_count": 205
        }
      ]
    },
    {
      "cell_type": "code",
      "metadata": {
        "colab": {
          "base_uri": "https://localhost:8080/"
        },
        "id": "0laZvjqCZYPY",
        "outputId": "ae614a73-45ab-41da-aa5e-1b26f7d70f0d"
      },
      "source": [
        "y_train.shape"
      ],
      "execution_count": 206,
      "outputs": [
        {
          "output_type": "execute_result",
          "data": {
            "text/plain": [
              "(242,)"
            ]
          },
          "metadata": {},
          "execution_count": 206
        }
      ]
    },
    {
      "cell_type": "code",
      "metadata": {
        "colab": {
          "base_uri": "https://localhost:8080/"
        },
        "id": "vSYCxN6ZZbvY",
        "outputId": "3dd6f9de-d2f1-46e3-ad83-1ffc22b51322"
      },
      "source": [
        "y_test.shape"
      ],
      "execution_count": 207,
      "outputs": [
        {
          "output_type": "execute_result",
          "data": {
            "text/plain": [
              "(61,)"
            ]
          },
          "metadata": {},
          "execution_count": 207
        }
      ]
    },
    {
      "cell_type": "code",
      "metadata": {
        "id": "sl-1kba8aBEl"
      },
      "source": [
        "from sklearn.ensemble import RandomForestClassifier \n",
        "\n",
        "clf = RandomForestClassifier()\n",
        "\n",
        "#instance = object. The same thing. We are making an object of our model. We are doing it as a short cut. We will use it later "
      ],
      "execution_count": 208,
      "outputs": []
    },
    {
      "cell_type": "code",
      "metadata": {
        "colab": {
          "base_uri": "https://localhost:8080/"
        },
        "id": "zB2po8sZaRNC",
        "outputId": "8debe846-4718-4aa3-e1bd-330b3b80b71c"
      },
      "source": [
        "clf.fit(X_train, y_train)"
      ],
      "execution_count": 209,
      "outputs": [
        {
          "output_type": "execute_result",
          "data": {
            "text/plain": [
              "RandomForestClassifier(bootstrap=True, ccp_alpha=0.0, class_weight=None,\n",
              "                       criterion='gini', max_depth=None, max_features='auto',\n",
              "                       max_leaf_nodes=None, max_samples=None,\n",
              "                       min_impurity_decrease=0.0, min_impurity_split=None,\n",
              "                       min_samples_leaf=1, min_samples_split=2,\n",
              "                       min_weight_fraction_leaf=0.0, n_estimators=100,\n",
              "                       n_jobs=None, oob_score=False, random_state=None,\n",
              "                       verbose=0, warm_start=False)"
            ]
          },
          "metadata": {},
          "execution_count": 209
        }
      ]
    },
    {
      "cell_type": "code",
      "metadata": {
        "id": "Gxv6eRyZaYh0"
      },
      "source": [
        "y_preds = clf.predict(X_test) #making prediction based on X_test"
      ],
      "execution_count": 210,
      "outputs": []
    },
    {
      "cell_type": "code",
      "metadata": {
        "colab": {
          "base_uri": "https://localhost:8080/"
        },
        "id": "fuJHi0NIa4EX",
        "outputId": "4460ba09-f9ee-4a4b-85a3-258f08ddd41f"
      },
      "source": [
        "clf.score(X_train, y_train) #getting 100% accuracy because X_train and y_train were used to train the model already (Pavel's example 5+6=11) "
      ],
      "execution_count": 211,
      "outputs": [
        {
          "output_type": "execute_result",
          "data": {
            "text/plain": [
              "1.0"
            ]
          },
          "metadata": {},
          "execution_count": 211
        }
      ]
    },
    {
      "cell_type": "code",
      "metadata": {
        "colab": {
          "base_uri": "https://localhost:8080/"
        },
        "id": "PLgYTkJbcBQW",
        "outputId": "14303e98-60e7-4973-bcd2-40f30cde48f2"
      },
      "source": [
        "clf.score(X_test, y_test) #X_test, y_test are new and they haven't been used yet "
      ],
      "execution_count": 212,
      "outputs": [
        {
          "output_type": "execute_result",
          "data": {
            "text/plain": [
              "0.8524590163934426"
            ]
          },
          "metadata": {},
          "execution_count": 212
        }
      ]
    },
    {
      "cell_type": "code",
      "metadata": {
        "id": "brdTTriqcUOo"
      },
      "source": [
        "from sklearn.svm import LinearSVC\n",
        "from sklearn.neighbors import KNeighborsClassifier\n",
        "from sklearn.svm import SVC\n",
        "from sklearn.linear_model import LogisticRegression\n",
        " \n"
      ],
      "execution_count": 213,
      "outputs": []
    },
    {
      "cell_type": "code",
      "metadata": {
        "id": "CIp7Ci0ge4Ql"
      },
      "source": [
        "#In this cell making \"models\" which can be used to apply all models as one be calling \"modles\" \n",
        "example_dict = {\"RandomForestClassifier\": RandomForestClassifier()} #because we may apply both example_dict and models\n",
        "\n",
        "models = {\"LinearSVC\": LinearSVC(),\n",
        "          \"KNN\": KNeighborsClassifier(),\n",
        "          \"SVC\": SVC(),\n",
        "          \"LogisticRegression\": LogisticRegression(),\n",
        "          \"RandomForestClassifier\": RandomForestClassifier()}\n",
        "results = {} #in result we will store our models results"
      ],
      "execution_count": 214,
      "outputs": []
    },
    {
      "cell_type": "code",
      "metadata": {
        "colab": {
          "base_uri": "https://localhost:8080/"
        },
        "id": "GKvR0SmHh7uX",
        "outputId": "a054a764-559f-48d1-f0b0-f46dd3c675e9"
      },
      "source": [
        "#This cell is just an EXAMPLE! We are not going to use it. \n",
        "example_results = {}\n",
        "for model_name, model in example_dict.items():\n",
        "  model.fit(X_train, y_train)\n",
        "  example_results[model_name] = model.score(X_test, y_test)\n",
        "\n",
        "example_results\n",
        "\n",
        "\n",
        "\n"
      ],
      "execution_count": 215,
      "outputs": [
        {
          "output_type": "execute_result",
          "data": {
            "text/plain": [
              "{'RandomForestClassifier': 0.8688524590163934}"
            ]
          },
          "metadata": {},
          "execution_count": 215
        }
      ]
    },
    {
      "cell_type": "code",
      "metadata": {
        "colab": {
          "base_uri": "https://localhost:8080/"
        },
        "id": "s-5IVVa46lfX",
        "outputId": "f44a6333-03f3-471f-c748-f7ae4c345db1"
      },
      "source": [
        "np.random.seed(42)\n",
        "for model_name, model in models.items():\n",
        "  model.fit(X_train, y_train)\n",
        "  results[model_name] = model.score(X_test, y_test)\n",
        "\n",
        "results"
      ],
      "execution_count": 216,
      "outputs": [
        {
          "output_type": "stream",
          "name": "stderr",
          "text": [
            "/usr/local/lib/python3.7/dist-packages/sklearn/svm/_base.py:947: ConvergenceWarning: Liblinear failed to converge, increase the number of iterations.\n",
            "  \"the number of iterations.\", ConvergenceWarning)\n",
            "/usr/local/lib/python3.7/dist-packages/sklearn/linear_model/_logistic.py:940: ConvergenceWarning: lbfgs failed to converge (status=1):\n",
            "STOP: TOTAL NO. of ITERATIONS REACHED LIMIT.\n",
            "\n",
            "Increase the number of iterations (max_iter) or scale the data as shown in:\n",
            "    https://scikit-learn.org/stable/modules/preprocessing.html\n",
            "Please also refer to the documentation for alternative solver options:\n",
            "    https://scikit-learn.org/stable/modules/linear_model.html#logistic-regression\n",
            "  extra_warning_msg=_LOGISTIC_SOLVER_CONVERGENCE_MSG)\n"
          ]
        },
        {
          "output_type": "execute_result",
          "data": {
            "text/plain": [
              "{'KNN': 0.6885245901639344,\n",
              " 'LinearSVC': 0.5901639344262295,\n",
              " 'LogisticRegression': 0.8852459016393442,\n",
              " 'RandomForestClassifier': 0.8360655737704918,\n",
              " 'SVC': 0.7049180327868853}"
            ]
          },
          "metadata": {},
          "execution_count": 216
        }
      ]
    },
    {
      "cell_type": "code",
      "metadata": {
        "colab": {
          "base_uri": "https://localhost:8080/",
          "height": 373
        },
        "id": "ACl8u4axwR6s",
        "outputId": "6b5863be-05bd-4f76-c5b4-24b4fa7f9283"
      },
      "source": [
        "results_df = pd.DataFrame(results.values(),\n",
        "                          results.keys(),\n",
        "                          columns=[\"accuracy\"])\n",
        "\n",
        "results_df.plot.bar();"
      ],
      "execution_count": 217,
      "outputs": [
        {
          "output_type": "display_data",
          "data": {
            "image/png": "[encoded data removed]",
            "text/plain": [
              "<Figure size 432x288 with 1 Axes>"
            ]
          },
          "metadata": {
            "needs_background": "light"
          }
        }
      ]
    },
    {
      "cell_type": "code",
      "metadata": {
        "colab": {
          "base_uri": "https://localhost:8080/",
          "height": 206
        },
        "id": "vpRWrmGLyUOq",
        "outputId": "4aded20f-7de2-470d-826b-6811b38a51c0"
      },
      "source": [
        "results_df"
      ],
      "execution_count": 218,
      "outputs": [
        {
          "output_type": "execute_result",
          "data": {
            "text/html": [
              "<div>\n",
              "<style scoped>\n",
              "    .dataframe tbody tr th:only-of-type {\n",
              "        vertical-align: middle;\n",
              "    }\n",
              "\n",
              "    .dataframe tbody tr th {\n",
              "        vertical-align: top;\n",
              "    }\n",
              "\n",
              "    .dataframe thead th {\n",
              "        text-align: right;\n",
              "    }\n",
              "</style>\n",
              "<table border=\"1\" class=\"dataframe\">\n",
              "  <thead>\n",
              "    <tr style=\"text-align: right;\">\n",
              "      <th></th>\n",
              "      <th>accuracy</th>\n",
              "    </tr>\n",
              "  </thead>\n",
              "  <tbody>\n",
              "    <tr>\n",
              "      <th>LinearSVC</th>\n",
              "      <td>0.590164</td>\n",
              "    </tr>\n",
              "    <tr>\n",
              "      <th>KNN</th>\n",
              "      <td>0.688525</td>\n",
              "    </tr>\n",
              "    <tr>\n",
              "      <th>SVC</th>\n",
              "      <td>0.704918</td>\n",
              "    </tr>\n",
              "    <tr>\n",
              "      <th>LogisticRegression</th>\n",
              "      <td>0.885246</td>\n",
              "    </tr>\n",
              "    <tr>\n",
              "      <th>RandomForestClassifier</th>\n",
              "      <td>0.836066</td>\n",
              "    </tr>\n",
              "  </tbody>\n",
              "</table>\n",
              "</div>"
            ],
            "text/plain": [
              "                        accuracy\n",
              "LinearSVC               0.590164\n",
              "KNN                     0.688525\n",
              "SVC                     0.704918\n",
              "LogisticRegression      0.885246\n",
              "RandomForestClassifier  0.836066"
            ]
          },
          "metadata": {},
          "execution_count": 218
        }
      ]
    },
    {
      "cell_type": "code",
      "metadata": {
        "id": "0nujXX7r2VKD"
      },
      "source": [
        "log_reg_grid = {\"C\": np.logspace(-4, 4, 20), #making a grid over some hyperparameters like \"C\" and \"solver\"\n",
        "                \"solver\": [\"liblinear\"]} \n",
        "#using hyperparameters will boost my model. I should I know which parameters are the best and provide the best accuracy"
      ],
      "execution_count": 219,
      "outputs": []
    },
    {
      "cell_type": "code",
      "metadata": {
        "colab": {
          "base_uri": "https://localhost:8080/"
        },
        "id": "j_zDwLHc2dKD",
        "outputId": "3b1a1433-d2d3-40d3-9d6f-10ea65824d48"
      },
      "source": [
        "np.random.seed(42)\n",
        "from sklearn.model_selection import RandomizedSearchCV\n",
        "\n",
        "rs_log_reg = RandomizedSearchCV(estimator=LogisticRegression(),\n",
        "                                param_distributions = log_reg_grid,\n",
        "                                cv=5,\n",
        "                                n_iter = 5,\n",
        "                                verbose = True)\n",
        "rs_log_reg.fit(X_train, y_train)"
      ],
      "execution_count": 220,
      "outputs": [
        {
          "output_type": "stream",
          "name": "stdout",
          "text": [
            "Fitting 5 folds for each of 5 candidates, totalling 25 fits\n"
          ]
        },
        {
          "output_type": "stream",
          "name": "stderr",
          "text": [
            "[Parallel(n_jobs=1)]: Using backend SequentialBackend with 1 concurrent workers.\n",
            "[Parallel(n_jobs=1)]: Done  25 out of  25 | elapsed:    0.1s finished\n"
          ]
        },
        {
          "output_type": "execute_result",
          "data": {
            "text/plain": [
              "RandomizedSearchCV(cv=5, error_score=nan,\n",
              "                   estimator=LogisticRegression(C=1.0, class_weight=None,\n",
              "                                                dual=False, fit_intercept=True,\n",
              "                                                intercept_scaling=1,\n",
              "                                                l1_ratio=None, max_iter=100,\n",
              "                                                multi_class='auto', n_jobs=None,\n",
              "                                                penalty='l2', random_state=None,\n",
              "                                                solver='lbfgs', tol=0.0001,\n",
              "                                                verbose=0, warm_start=False),\n",
              "                   iid='deprecated', n_iter=5, n_jobs=None,\n",
              "                   param_distributions={'C': a...\n",
              "       4.83293024e-03, 1.27427499e-02, 3.35981829e-02, 8.85866790e-02,\n",
              "       2.33572147e-01, 6.15848211e-01, 1.62377674e+00, 4.28133240e+00,\n",
              "       1.12883789e+01, 2.97635144e+01, 7.84759970e+01, 2.06913808e+02,\n",
              "       5.45559478e+02, 1.43844989e+03, 3.79269019e+03, 1.00000000e+04]),\n",
              "                                        'solver': ['liblinear']},\n",
              "                   pre_dispatch='2*n_jobs', random_state=None, refit=True,\n",
              "                   return_train_score=False, scoring=None, verbose=True)"
            ]
          },
          "metadata": {},
          "execution_count": 220
        }
      ]
    },
    {
      "cell_type": "code",
      "metadata": {
        "colab": {
          "base_uri": "https://localhost:8080/"
        },
        "id": "bSny_I6Mb8kv",
        "outputId": "8cddec7f-28e5-4479-ff6d-64e78fc21acc"
      },
      "source": [
        "np.logspace(-4, 4, 20)"
      ],
      "execution_count": 221,
      "outputs": [
        {
          "output_type": "execute_result",
          "data": {
            "text/plain": [
              "array([1.00000000e-04, 2.63665090e-04, 6.95192796e-04, 1.83298071e-03,\n",
              "       4.83293024e-03, 1.27427499e-02, 3.35981829e-02, 8.85866790e-02,\n",
              "       2.33572147e-01, 6.15848211e-01, 1.62377674e+00, 4.28133240e+00,\n",
              "       1.12883789e+01, 2.97635144e+01, 7.84759970e+01, 2.06913808e+02,\n",
              "       5.45559478e+02, 1.43844989e+03, 3.79269019e+03, 1.00000000e+04])"
            ]
          },
          "metadata": {},
          "execution_count": 221
        }
      ]
    },
    {
      "cell_type": "code",
      "metadata": {
        "colab": {
          "base_uri": "https://localhost:8080/"
        },
        "id": "cZgCfauzaMZ6",
        "outputId": "39cb09c0-9d99-4be7-c671-24cd6c91c0ac"
      },
      "source": [
        "#Now we are going to find out the best parameters/hyperparmeters \n",
        "rs_log_reg.best_params_\n",
        "#this cell will show the best parameter from cell 48 that is above(48cell comes from 45cell)\n"
      ],
      "execution_count": 222,
      "outputs": [
        {
          "output_type": "execute_result",
          "data": {
            "text/plain": [
              "{'C': 0.23357214690901212, 'solver': 'liblinear'}"
            ]
          },
          "metadata": {},
          "execution_count": 222
        }
      ]
    },
    {
      "cell_type": "code",
      "metadata": {
        "colab": {
          "base_uri": "https://localhost:8080/"
        },
        "id": "DBnJDjQ-c9Th",
        "outputId": "691da9b0-b644-453c-82f3-6fc1dd2e0f17"
      },
      "source": [
        "rs_log_reg.score(X_test, y_test) #here we are getting the best accuracty from LogisticRegression (44cell)"
      ],
      "execution_count": 223,
      "outputs": [
        {
          "output_type": "execute_result",
          "data": {
            "text/plain": [
              "0.8852459016393442"
            ]
          },
          "metadata": {},
          "execution_count": 223
        }
      ]
    },
    {
      "cell_type": "code",
      "metadata": {
        "colab": {
          "base_uri": "https://localhost:8080/"
        },
        "id": "9q3nRIJTdsuv",
        "outputId": "63846663-3855-46ea-edb4-3392b9bc0148"
      },
      "source": [
        "clf = LogisticRegression(C=0.23357214690901212, solver=\"liblinear\")\n",
        "\n",
        "clf.fit(X_train, y_train)"
      ],
      "execution_count": 224,
      "outputs": [
        {
          "output_type": "execute_result",
          "data": {
            "text/plain": [
              "LogisticRegression(C=0.23357214690901212, class_weight=None, dual=False,\n",
              "                   fit_intercept=True, intercept_scaling=1, l1_ratio=None,\n",
              "                   max_iter=100, multi_class='auto', n_jobs=None, penalty='l2',\n",
              "                   random_state=None, solver='liblinear', tol=0.0001, verbose=0,\n",
              "                   warm_start=False)"
            ]
          },
          "metadata": {},
          "execution_count": 224
        }
      ]
    },
    {
      "cell_type": "code",
      "metadata": {
        "id": "lj-F-T-3hPwH"
      },
      "source": [
        "from sklearn.metrics import confusion_matrix, classification_report\n",
        "from sklearn.metrics import precision_score, recall_score, f1_score\n",
        "from sklearn.metrics import plot_roc_curve"
      ],
      "execution_count": 225,
      "outputs": []
    },
    {
      "cell_type": "code",
      "metadata": {
        "id": "ugwRbCrZhx-v"
      },
      "source": [
        "y_preds = clf.predict(X_test)"
      ],
      "execution_count": 226,
      "outputs": []
    },
    {
      "cell_type": "code",
      "metadata": {
        "colab": {
          "base_uri": "https://localhost:8080/"
        },
        "id": "g-R312-pSuNn",
        "outputId": "2a9e2f6e-c8df-4ca1-abb7-16baa5971ccc"
      },
      "source": [
        "clf.score(X_test, y_test)"
      ],
      "execution_count": 227,
      "outputs": [
        {
          "output_type": "execute_result",
          "data": {
            "text/plain": [
              "0.8852459016393442"
            ]
          },
          "metadata": {},
          "execution_count": 227
        }
      ]
    },
    {
      "cell_type": "code",
      "metadata": {
        "colab": {
          "base_uri": "https://localhost:8080/"
        },
        "id": "dmqkwatzi4YK",
        "outputId": "397ab2e1-ce2a-4420-e379-4f55248fc397"
      },
      "source": [
        "y_preds #this is my prediction "
      ],
      "execution_count": 228,
      "outputs": [
        {
          "output_type": "execute_result",
          "data": {
            "text/plain": [
              "array([0, 1, 1, 0, 1, 1, 1, 0, 0, 1, 1, 0, 1, 0, 1, 1, 1, 0, 0, 0, 1, 0,\n",
              "       0, 1, 1, 1, 1, 1, 0, 1, 0, 0, 0, 0, 1, 0, 1, 1, 1, 1, 1, 1, 1, 1,\n",
              "       1, 0, 1, 1, 0, 0, 0, 0, 1, 1, 0, 0, 0, 1, 0, 0, 0])"
            ]
          },
          "metadata": {},
          "execution_count": 228
        }
      ]
    },
    {
      "cell_type": "code",
      "metadata": {
        "colab": {
          "base_uri": "https://localhost:8080/"
        },
        "id": "pFflhhGujPY0",
        "outputId": "c902d24d-216f-4e86-95f8-ac288d070e92"
      },
      "source": [
        "confusion_matrix(y_test, y_preds) #y_test is the original answer and y_preds is the prediction based on my X_test "
      ],
      "execution_count": 229,
      "outputs": [
        {
          "output_type": "execute_result",
          "data": {
            "text/plain": [
              "array([[25,  4],\n",
              "       [ 3, 29]])"
            ]
          },
          "metadata": {},
          "execution_count": 229
        }
      ]
    },
    {
      "cell_type": "code",
      "metadata": {
        "id": "GCSXzSFFkl_5"
      },
      "source": [
        "import seaborn as sns"
      ],
      "execution_count": 230,
      "outputs": []
    },
    {
      "cell_type": "code",
      "metadata": {
        "colab": {
          "base_uri": "https://localhost:8080/",
          "height": 225
        },
        "id": "k522IUy9_w_y",
        "outputId": "9be7be9a-9860-41db-ad40-aed4e19468f4"
      },
      "source": [
        "#create a more visual confusion matrix \n",
        "def plot_conf_mat(y_test, y_preds):\n",
        "  fig, ax = plt.subplots(figsize=(3,3))\n",
        "  ax = sns.heatmap(confusion_matrix(y_test, y_preds),\n",
        "                    annot=True,\n",
        "                   cbar=False)\n",
        "  plt.xlabel(\"Predicted Label\")\n",
        "  plt.ylabel(\"True Label\")\n",
        "\n",
        "plot_conf_mat(y_test, y_preds)"
      ],
      "execution_count": 231,
      "outputs": [
        {
          "output_type": "display_data",
          "data": {
            "image/png": "[encoded data removed]",
            "text/plain": [
              "<Figure size 216x216 with 1 Axes>"
            ]
          },
          "metadata": {
            "needs_background": "light"
          }
        }
      ]
    },
    {
      "cell_type": "code",
      "metadata": {
        "colab": {
          "base_uri": "https://localhost:8080/",
          "height": 53
        },
        "id": "oIsHlffhCcou",
        "outputId": "0d0053ae-e4ea-4968-ad68-94d77fbcc6fc"
      },
      "source": [
        "#create a classification report \n",
        "classification_report(y_test, y_preds)"
      ],
      "execution_count": 232,
      "outputs": [
        {
          "output_type": "execute_result",
          "data": {
            "application/vnd.google.colaboratory.intrinsic+json": {
              "type": "string"
            },
            "text/plain": [
              "'              precision    recall  f1-score   support\\n\\n           0       0.89      0.86      0.88        29\\n           1       0.88      0.91      0.89        32\\n\\n    accuracy                           0.89        61\\n   macro avg       0.89      0.88      0.88        61\\nweighted avg       0.89      0.89      0.89        61\\n'"
            ]
          },
          "metadata": {},
          "execution_count": 232
        }
      ]
    },
    {
      "cell_type": "code",
      "metadata": {
        "colab": {
          "base_uri": "https://localhost:8080/"
        },
        "id": "9JH9J0CTDOSp",
        "outputId": "65bfbd7e-a7da-4160-a19c-8a8e93667ad5"
      },
      "source": [
        "precision_score(y_test, y_preds)"
      ],
      "execution_count": 233,
      "outputs": [
        {
          "output_type": "execute_result",
          "data": {
            "text/plain": [
              "0.8787878787878788"
            ]
          },
          "metadata": {},
          "execution_count": 233
        }
      ]
    },
    {
      "cell_type": "code",
      "metadata": {
        "colab": {
          "base_uri": "https://localhost:8080/"
        },
        "id": "_gkHvXOjEwFr",
        "outputId": "a838a347-56ab-42d2-feea-1c7d9c21207b"
      },
      "source": [
        "#find the recall score\n",
        "recall_score(y_test, y_preds)"
      ],
      "execution_count": 234,
      "outputs": [
        {
          "output_type": "execute_result",
          "data": {
            "text/plain": [
              "0.90625"
            ]
          },
          "metadata": {},
          "execution_count": 234
        }
      ]
    },
    {
      "cell_type": "code",
      "metadata": {
        "colab": {
          "base_uri": "https://localhost:8080/"
        },
        "id": "WMBncC87GNLM",
        "outputId": "12ca3658-068a-45aa-c47d-f79abde78921"
      },
      "source": [
        "f1_score(y_test, y_preds)"
      ],
      "execution_count": 235,
      "outputs": [
        {
          "output_type": "execute_result",
          "data": {
            "text/plain": [
              "0.8923076923076922"
            ]
          },
          "metadata": {},
          "execution_count": 235
        }
      ]
    },
    {
      "cell_type": "code",
      "metadata": {
        "colab": {
          "base_uri": "https://localhost:8080/",
          "height": 296
        },
        "id": "9_repqCdIBTa",
        "outputId": "737e2d1b-9b18-463c-946d-39cb39fe4e66"
      },
      "source": [
        "#Plot a ROC curve \n",
        "plot_roc_curve(clf, X_test, y_test) #I am using X_test, y_test because I am trying to predict "
      ],
      "execution_count": 236,
      "outputs": [
        {
          "output_type": "execute_result",
          "data": {
            "text/plain": [
              "<sklearn.metrics._plot.roc_curve.RocCurveDisplay at 0x7f04aa086490>"
            ]
          },
          "metadata": {},
          "execution_count": 236
        },
        {
          "output_type": "display_data",
          "data": {
            "image/png": "[encoded data removed]",
            "text/plain": [
              "<Figure size 432x288 with 1 Axes>"
            ]
          },
          "metadata": {
            "needs_background": "light"
          }
        }
      ]
    },
    {
      "cell_type": "code",
      "metadata": {
        "id": "8qaBomrtIyFc"
      },
      "source": [
        "from sklearn.model_selection import cross_val_score"
      ],
      "execution_count": 237,
      "outputs": []
    },
    {
      "cell_type": "code",
      "metadata": {
        "colab": {
          "base_uri": "https://localhost:8080/"
        },
        "id": "IIcNdVw3J0KI",
        "outputId": "69170978-f63f-44a4-b9d5-456e7755fbf1"
      },
      "source": [
        "cross_val_score(clf,\n",
        "                X,\n",
        "                y,\n",
        "                scoring=\"accuracy\",\n",
        "                cv=5)"
      ],
      "execution_count": 238,
      "outputs": [
        {
          "output_type": "execute_result",
          "data": {
            "text/plain": [
              "array([0.81967213, 0.90163934, 0.8852459 , 0.88333333, 0.75      ])"
            ]
          },
          "metadata": {},
          "execution_count": 238
        }
      ]
    },
    {
      "cell_type": "code",
      "metadata": {
        "colab": {
          "base_uri": "https://localhost:8080/"
        },
        "id": "5FDkFx29KJmB",
        "outputId": "fd828f6c-b6b9-4498-bb00-8ad79b064bc7"
      },
      "source": [
        "cross_val_acc = np.mean(cross_val_score(clf,\n",
        "                                          X,\n",
        "                                          y,\n",
        "                                          scoring=\"accuracy\",\n",
        "                                          cv=5))\n",
        "cross_val_acc\n",
        "#this cell gives me an average score from cell 48"
      ],
      "execution_count": 239,
      "outputs": [
        {
          "output_type": "execute_result",
          "data": {
            "text/plain": [
              "0.8479781420765027"
            ]
          },
          "metadata": {},
          "execution_count": 239
        }
      ]
    },
    {
      "cell_type": "code",
      "metadata": {
        "colab": {
          "base_uri": "https://localhost:8080/"
        },
        "id": "9gELhNSzLRiz",
        "outputId": "a12e5ff6-3fd5-41bb-d239-4e0c87f40b32"
      },
      "source": [
        "precision_score = np.mean(cross_val_score(clf,\n",
        "                          X,\n",
        "                          y,\n",
        "                          scoring=\"precision\",\n",
        "                          cv=5))\n",
        "precision_score"
      ],
      "execution_count": 240,
      "outputs": [
        {
          "output_type": "execute_result",
          "data": {
            "text/plain": [
              "0.8215873015873015"
            ]
          },
          "metadata": {},
          "execution_count": 240
        }
      ]
    },
    {
      "cell_type": "code",
      "metadata": {
        "colab": {
          "base_uri": "https://localhost:8080/"
        },
        "id": "WoWdI0S6MUl9",
        "outputId": "0bca3626-0834-4e39-b140-da0de7605d4a"
      },
      "source": [
        "recall_score = np.mean(cross_val_score(clf,\n",
        "                                       X,\n",
        "                                       y,\n",
        "                                       scoring=\"recall\",\n",
        "                                       cv=5))\n",
        "recall_score"
      ],
      "execution_count": 241,
      "outputs": [
        {
          "output_type": "execute_result",
          "data": {
            "text/plain": [
              "0.9272727272727274"
            ]
          },
          "metadata": {},
          "execution_count": 241
        }
      ]
    },
    {
      "cell_type": "code",
      "metadata": {
        "colab": {
          "base_uri": "https://localhost:8080/"
        },
        "id": "h_eT-QqbMjSf",
        "outputId": "3f327b11-b180-442a-bc3b-9fb5cbb2d002"
      },
      "source": [
        "f1_score = np.mean(cross_val_score(clf,\n",
        "                                   X,\n",
        "                                   y,\n",
        "                                   scoring=\"f1\",\n",
        "                                   cv=5))\n",
        "f1_score"
      ],
      "execution_count": 242,
      "outputs": [
        {
          "output_type": "execute_result",
          "data": {
            "text/plain": [
              "0.8705403543192143"
            ]
          },
          "metadata": {},
          "execution_count": 242
        }
      ]
    },
    {
      "cell_type": "code",
      "metadata": {
        "id": "AMlw8mhQPHs8"
      },
      "source": [
        "from joblib import dump, load"
      ],
      "execution_count": 243,
      "outputs": []
    },
    {
      "cell_type": "code",
      "metadata": {
        "colab": {
          "base_uri": "https://localhost:8080/"
        },
        "id": "w1hJIOcYPula",
        "outputId": "668aff65-e6f6-4193-cdd8-2d2d7ca16f03"
      },
      "source": [
        "#Use the dump function to export the trained model to file \n",
        "\n",
        "dump(clf,\"training_classifier.joblib\") #dumb will save my module"
      ],
      "execution_count": 244,
      "outputs": [
        {
          "output_type": "execute_result",
          "data": {
            "text/plain": [
              "['training_classifier.joblib']"
            ]
          },
          "metadata": {},
          "execution_count": 244
        }
      ]
    },
    {
      "cell_type": "code",
      "metadata": {
        "colab": {
          "base_uri": "https://localhost:8080/"
        },
        "id": "ZhAxyIpRQqyQ",
        "outputId": "1f385438-486a-4b66-9aef-76843f52388d"
      },
      "source": [
        "load_clf = load(\"training_classifier.joblib\") #once I saved it in dump, I will need to load it. This is what this line for\n",
        "\n",
        "load_clf.score(X_test, y_test)"
      ],
      "execution_count": 245,
      "outputs": [
        {
          "output_type": "execute_result",
          "data": {
            "text/plain": [
              "0.8852459016393442"
            ]
          },
          "metadata": {},
          "execution_count": 245
        }
      ]
    },
    {
      "cell_type": "code",
      "metadata": {
        "colab": {
          "base_uri": "https://localhost:8080/",
          "height": 206
        },
        "id": "dfnpWhedRgkB",
        "outputId": "7fb6891e-e0b2-433a-9d59-1e54ae67806b"
      },
      "source": [
        "car_sales1 = pd.read_csv(\"/content/car-sales-extended-missing-data.csv\")\n",
        "\n",
        "car_sales1.head(5)"
      ],
      "execution_count": 246,
      "outputs": [
        {
          "output_type": "execute_result",
          "data": {
            "text/html": [
              "<div>\n",
              "<style scoped>\n",
              "    .dataframe tbody tr th:only-of-type {\n",
              "        vertical-align: middle;\n",
              "    }\n",
              "\n",
              "    .dataframe tbody tr th {\n",
              "        vertical-align: top;\n",
              "    }\n",
              "\n",
              "    .dataframe thead th {\n",
              "        text-align: right;\n",
              "    }\n",
              "</style>\n",
              "<table border=\"1\" class=\"dataframe\">\n",
              "  <thead>\n",
              "    <tr style=\"text-align: right;\">\n",
              "      <th></th>\n",
              "      <th>Make</th>\n",
              "      <th>Colour</th>\n",
              "      <th>Odometer (KM)</th>\n",
              "      <th>Doors</th>\n",
              "      <th>Price</th>\n",
              "    </tr>\n",
              "  </thead>\n",
              "  <tbody>\n",
              "    <tr>\n",
              "      <th>0</th>\n",
              "      <td>Honda</td>\n",
              "      <td>White</td>\n",
              "      <td>35431.0</td>\n",
              "      <td>4.0</td>\n",
              "      <td>15323.0</td>\n",
              "    </tr>\n",
              "    <tr>\n",
              "      <th>1</th>\n",
              "      <td>BMW</td>\n",
              "      <td>Blue</td>\n",
              "      <td>192714.0</td>\n",
              "      <td>5.0</td>\n",
              "      <td>19943.0</td>\n",
              "    </tr>\n",
              "    <tr>\n",
              "      <th>2</th>\n",
              "      <td>Honda</td>\n",
              "      <td>White</td>\n",
              "      <td>84714.0</td>\n",
              "      <td>4.0</td>\n",
              "      <td>28343.0</td>\n",
              "    </tr>\n",
              "    <tr>\n",
              "      <th>3</th>\n",
              "      <td>Toyota</td>\n",
              "      <td>White</td>\n",
              "      <td>154365.0</td>\n",
              "      <td>4.0</td>\n",
              "      <td>13434.0</td>\n",
              "    </tr>\n",
              "    <tr>\n",
              "      <th>4</th>\n",
              "      <td>Nissan</td>\n",
              "      <td>Blue</td>\n",
              "      <td>181577.0</td>\n",
              "      <td>3.0</td>\n",
              "      <td>14043.0</td>\n",
              "    </tr>\n",
              "  </tbody>\n",
              "</table>\n",
              "</div>"
            ],
            "text/plain": [
              "     Make Colour  Odometer (KM)  Doors    Price\n",
              "0   Honda  White        35431.0    4.0  15323.0\n",
              "1     BMW   Blue       192714.0    5.0  19943.0\n",
              "2   Honda  White        84714.0    4.0  28343.0\n",
              "3  Toyota  White       154365.0    4.0  13434.0\n",
              "4  Nissan   Blue       181577.0    3.0  14043.0"
            ]
          },
          "metadata": {},
          "execution_count": 246
        }
      ]
    },
    {
      "cell_type": "code",
      "metadata": {
        "colab": {
          "base_uri": "https://localhost:8080/"
        },
        "id": "0WEKbOA3Ieri",
        "outputId": "b96b3283-7af8-4961-d5b7-c400ffd495ff"
      },
      "source": [
        "car_sales1.info()"
      ],
      "execution_count": 247,
      "outputs": [
        {
          "output_type": "stream",
          "name": "stdout",
          "text": [
            "<class 'pandas.core.frame.DataFrame'>\n",
            "RangeIndex: 1000 entries, 0 to 999\n",
            "Data columns (total 5 columns):\n",
            " #   Column         Non-Null Count  Dtype  \n",
            "---  ------         --------------  -----  \n",
            " 0   Make           951 non-null    object \n",
            " 1   Colour         950 non-null    object \n",
            " 2   Odometer (KM)  950 non-null    float64\n",
            " 3   Doors          950 non-null    float64\n",
            " 4   Price          950 non-null    float64\n",
            "dtypes: float64(3), object(2)\n",
            "memory usage: 39.2+ KB\n"
          ]
        }
      ]
    },
    {
      "cell_type": "code",
      "metadata": {
        "colab": {
          "base_uri": "https://localhost:8080/"
        },
        "id": "Sr0jr1lbI89E",
        "outputId": "79ce1d53-5e52-4113-bc1b-2512448ef1c3"
      },
      "source": [
        "car_sales1.isna().sum() #missing values in rows "
      ],
      "execution_count": 248,
      "outputs": [
        {
          "output_type": "execute_result",
          "data": {
            "text/plain": [
              "Make             49\n",
              "Colour           50\n",
              "Odometer (KM)    50\n",
              "Doors            50\n",
              "Price            50\n",
              "dtype: int64"
            ]
          },
          "metadata": {},
          "execution_count": 248
        }
      ]
    },
    {
      "cell_type": "code",
      "metadata": {
        "colab": {
          "base_uri": "https://localhost:8080/"
        },
        "id": "6c74V1aXJUgv",
        "outputId": "8724cbc9-b25f-45b4-dd18-c427b8f20ba4"
      },
      "source": [
        "car_sales1.dtypes"
      ],
      "execution_count": 249,
      "outputs": [
        {
          "output_type": "execute_result",
          "data": {
            "text/plain": [
              "Make              object\n",
              "Colour            object\n",
              "Odometer (KM)    float64\n",
              "Doors            float64\n",
              "Price            float64\n",
              "dtype: object"
            ]
          },
          "metadata": {},
          "execution_count": 249
        }
      ]
    },
    {
      "cell_type": "code",
      "metadata": {
        "id": "alHflc3PJtda"
      },
      "source": [
        "#this cell won't work because we have non_numerilan and missing data (Nan). We need numerical values \n",
        "# from sklearn.ensemble import RandomForestRegressor\n",
        "# car_sales_X, car_sales_y = car_sales.drop(\"Price\", axis=1), car_sales.Price\n",
        "# rf_regressor = RandomForestRegressor().fit(car_sales_X, car_sales_y)"
      ],
      "execution_count": 250,
      "outputs": []
    },
    {
      "cell_type": "code",
      "metadata": {
        "id": "UfxZ-6zUMMCK"
      },
      "source": [
        "#Remove rows with no labels(NaN's in the Price column)\n",
        "car_sales1.dropna(subset=[\"Price\"], inplace=True) #inplace=True will not display the graph"
      ],
      "execution_count": 251,
      "outputs": []
    },
    {
      "cell_type": "code",
      "metadata": {
        "id": "XzKHd85PO14O"
      },
      "source": [
        "#module is pipeline and then importing Pipeline library \n",
        "from sklearn.pipeline import Pipeline\n",
        "from sklearn.compose import ColumnTransformer\n",
        "from sklearn.impute import SimpleImputer\n",
        "from sklearn.preprocessing import OneHotEncoder\n",
        "from sklearn.model_selection import train_test_split\n"
      ],
      "execution_count": 252,
      "outputs": []
    },
    {
      "cell_type": "code",
      "metadata": {
        "id": "TTVTYO_pRWeP"
      },
      "source": [
        "categorical_features = [\"Make\", \"Colour\"]\n",
        "\n",
        "categorical_transformer = Pipeline(steps=[(\"imputer\",SimpleImputer(strategy=\"constant\", fill_value=\"missing\")),\n",
        "                                   (\"onehot\", OneHotEncoder(handle_unknown=\"ignore\"))])"
      ],
      "execution_count": 253,
      "outputs": []
    },
    {
      "cell_type": "code",
      "metadata": {
        "id": "p6Vv4uNpTmlc"
      },
      "source": [
        "door_feature = [\"Doors\"]\n",
        "\n",
        "door_transformer = Pipeline(steps=[(\"imputer\", SimpleImputer(strategy=\"constant\", fill_value=4))])"
      ],
      "execution_count": 254,
      "outputs": []
    },
    {
      "cell_type": "code",
      "metadata": {
        "id": "BeO_hWiMUHUI"
      },
      "source": [
        "numeric_feature = [\"Odometer (KM)\"]\n",
        "\n",
        "\n",
        "\n",
        "numeric_transformer = Pipeline(steps=[(\"imputer\", SimpleImputer(strategy=\"mean\"))])"
      ],
      "execution_count": 255,
      "outputs": []
    },
    {
      "cell_type": "code",
      "metadata": {
        "id": "tOxcZ5LzXwEN"
      },
      "source": [
        "preprocessor = ColumnTransformer(\n",
        "    transformers = [(\"cat\", categorical_transformer, categorical_features), #categorical_features that I created in cell 68\n",
        "                    (\"door\", door_transformer, door_feature),\n",
        "                    (\"num\", numeric_transformer, numeric_feature)])"
      ],
      "execution_count": 256,
      "outputs": []
    },
    {
      "cell_type": "code",
      "metadata": {
        "colab": {
          "base_uri": "https://localhost:8080/"
        },
        "id": "EaoD41GeElAE",
        "outputId": "e3081abf-4a1c-48d4-bac3-471b27c6753a"
      },
      "source": [
        "car_sales1.isna().sum()"
      ],
      "execution_count": 257,
      "outputs": [
        {
          "output_type": "execute_result",
          "data": {
            "text/plain": [
              "Make             47\n",
              "Colour           46\n",
              "Odometer (KM)    48\n",
              "Doors            47\n",
              "Price             0\n",
              "dtype: int64"
            ]
          },
          "metadata": {},
          "execution_count": 257
        }
      ]
    },
    {
      "cell_type": "code",
      "metadata": {
        "id": "_IYaSmhXZEeh"
      },
      "source": [
        "from sklearn.linear_model import Ridge\n",
        "from sklearn.svm import SVR\n",
        "from sklearn.ensemble import RandomForestRegressor"
      ],
      "execution_count": 258,
      "outputs": []
    },
    {
      "cell_type": "code",
      "metadata": {
        "id": "-L7gKKpYZ0AL"
      },
      "source": [
        "regression_models = {\"Ridge\": Ridge(),\n",
        "                     \"SVR_linear\": SVR(kernel=\"linear\"),\n",
        "                     \"SVR_rbf\": SVR(kernel=\"rbf\"),\n",
        "                     \"RandomForestRegressor\": RandomForestRegressor()}\n",
        "\n",
        "regression_results = {}"
      ],
      "execution_count": 259,
      "outputs": []
    },
    {
      "cell_type": "code",
      "metadata": {
        "id": "AGaApKA0c825"
      },
      "source": [
        "car_sales_X = car_sales1.drop(\"Price\", axis=1)\n",
        "\n",
        "car_sales_y = car_sales1[\"Price\"]"
      ],
      "execution_count": 260,
      "outputs": []
    },
    {
      "cell_type": "code",
      "metadata": {
        "colab": {
          "base_uri": "https://localhost:8080/"
        },
        "id": "vwr1haW6-VdJ",
        "outputId": "10ad4d91-b7af-4299-e7b3-8a18ef36d0ab"
      },
      "source": [
        "car_X_train, car_X_test, car_y_train, car_y_test = train_test_split(car_sales_X,\n",
        "                                                                    car_sales_y,\n",
        "                                                                    test_size=0.20,\n",
        "                                                                    random_state=42)\n",
        "\n",
        "car_X_train.shape, car_X_test.shape, car_y_train.shape, car_y_test.shape #there is only one column in (800,) and (200,) , the target one "
      ],
      "execution_count": 261,
      "outputs": [
        {
          "output_type": "execute_result",
          "data": {
            "text/plain": [
              "((760, 4), (190, 4), (760,), (190,))"
            ]
          },
          "metadata": {},
          "execution_count": 261
        }
      ]
    },
    {
      "cell_type": "code",
      "metadata": {
        "colab": {
          "base_uri": "https://localhost:8080/"
        },
        "id": "pqt5p2VJEEvK",
        "outputId": "e33a1d7d-fce8-4b90-b588-032a0499bb05"
      },
      "source": [
        "car_X_train.isna().sum()"
      ],
      "execution_count": 262,
      "outputs": [
        {
          "output_type": "execute_result",
          "data": {
            "text/plain": [
              "Make             35\n",
              "Colour           38\n",
              "Odometer (KM)    36\n",
              "Doors            38\n",
              "dtype: int64"
            ]
          },
          "metadata": {},
          "execution_count": 262
        }
      ]
    },
    {
      "cell_type": "code",
      "metadata": {
        "colab": {
          "base_uri": "https://localhost:8080/",
          "height": 424
        },
        "id": "RcDGwOWFEDst",
        "outputId": "f6ce0d5d-0639-4144-d3fb-360d9d681ef9"
      },
      "source": [
        "car_X_train"
      ],
      "execution_count": 263,
      "outputs": [
        {
          "output_type": "execute_result",
          "data": {
            "text/html": [
              "<div>\n",
              "<style scoped>\n",
              "    .dataframe tbody tr th:only-of-type {\n",
              "        vertical-align: middle;\n",
              "    }\n",
              "\n",
              "    .dataframe tbody tr th {\n",
              "        vertical-align: top;\n",
              "    }\n",
              "\n",
              "    .dataframe thead th {\n",
              "        text-align: right;\n",
              "    }\n",
              "</style>\n",
              "<table border=\"1\" class=\"dataframe\">\n",
              "  <thead>\n",
              "    <tr style=\"text-align: right;\">\n",
              "      <th></th>\n",
              "      <th>Make</th>\n",
              "      <th>Colour</th>\n",
              "      <th>Odometer (KM)</th>\n",
              "      <th>Doors</th>\n",
              "    </tr>\n",
              "  </thead>\n",
              "  <tbody>\n",
              "    <tr>\n",
              "      <th>986</th>\n",
              "      <td>Honda</td>\n",
              "      <td>White</td>\n",
              "      <td>71934.0</td>\n",
              "      <td>4.0</td>\n",
              "    </tr>\n",
              "    <tr>\n",
              "      <th>297</th>\n",
              "      <td>Toyota</td>\n",
              "      <td>Red</td>\n",
              "      <td>162665.0</td>\n",
              "      <td>4.0</td>\n",
              "    </tr>\n",
              "    <tr>\n",
              "      <th>566</th>\n",
              "      <td>Honda</td>\n",
              "      <td>White</td>\n",
              "      <td>42844.0</td>\n",
              "      <td>4.0</td>\n",
              "    </tr>\n",
              "    <tr>\n",
              "      <th>282</th>\n",
              "      <td>Honda</td>\n",
              "      <td>White</td>\n",
              "      <td>195829.0</td>\n",
              "      <td>4.0</td>\n",
              "    </tr>\n",
              "    <tr>\n",
              "      <th>109</th>\n",
              "      <td>Honda</td>\n",
              "      <td>Blue</td>\n",
              "      <td>219217.0</td>\n",
              "      <td>4.0</td>\n",
              "    </tr>\n",
              "    <tr>\n",
              "      <th>...</th>\n",
              "      <td>...</td>\n",
              "      <td>...</td>\n",
              "      <td>...</td>\n",
              "      <td>...</td>\n",
              "    </tr>\n",
              "    <tr>\n",
              "      <th>106</th>\n",
              "      <td>Toyota</td>\n",
              "      <td>NaN</td>\n",
              "      <td>218803.0</td>\n",
              "      <td>4.0</td>\n",
              "    </tr>\n",
              "    <tr>\n",
              "      <th>277</th>\n",
              "      <td>BMW</td>\n",
              "      <td>Blue</td>\n",
              "      <td>245427.0</td>\n",
              "      <td>5.0</td>\n",
              "    </tr>\n",
              "    <tr>\n",
              "      <th>904</th>\n",
              "      <td>Toyota</td>\n",
              "      <td>White</td>\n",
              "      <td>196225.0</td>\n",
              "      <td>4.0</td>\n",
              "    </tr>\n",
              "    <tr>\n",
              "      <th>450</th>\n",
              "      <td>Honda</td>\n",
              "      <td>Blue</td>\n",
              "      <td>133117.0</td>\n",
              "      <td>NaN</td>\n",
              "    </tr>\n",
              "    <tr>\n",
              "      <th>102</th>\n",
              "      <td>Honda</td>\n",
              "      <td>NaN</td>\n",
              "      <td>150582.0</td>\n",
              "      <td>NaN</td>\n",
              "    </tr>\n",
              "  </tbody>\n",
              "</table>\n",
              "<p>760 rows × 4 columns</p>\n",
              "</div>"
            ],
            "text/plain": [
              "       Make Colour  Odometer (KM)  Doors\n",
              "986   Honda  White        71934.0    4.0\n",
              "297  Toyota    Red       162665.0    4.0\n",
              "566   Honda  White        42844.0    4.0\n",
              "282   Honda  White       195829.0    4.0\n",
              "109   Honda   Blue       219217.0    4.0\n",
              "..      ...    ...            ...    ...\n",
              "106  Toyota    NaN       218803.0    4.0\n",
              "277     BMW   Blue       245427.0    5.0\n",
              "904  Toyota  White       196225.0    4.0\n",
              "450   Honda   Blue       133117.0    NaN\n",
              "102   Honda    NaN       150582.0    NaN\n",
              "\n",
              "[760 rows x 4 columns]"
            ]
          },
          "metadata": {},
          "execution_count": 263
        }
      ]
    },
    {
      "cell_type": "code",
      "metadata": {
        "colab": {
          "base_uri": "https://localhost:8080/"
        },
        "id": "ig3PVEn5TAnI",
        "outputId": "c5e9ad28-3459-4823-9ece-edff0f465881"
      },
      "source": [
        "regression_models"
      ],
      "execution_count": 264,
      "outputs": [
        {
          "output_type": "execute_result",
          "data": {
            "text/plain": [
              "{'RandomForestRegressor': RandomForestRegressor(bootstrap=True, ccp_alpha=0.0, criterion='mse',\n",
              "                       max_depth=None, max_features='auto', max_leaf_nodes=None,\n",
              "                       max_samples=None, min_impurity_decrease=0.0,\n",
              "                       min_impurity_split=None, min_samples_leaf=1,\n",
              "                       min_samples_split=2, min_weight_fraction_leaf=0.0,\n",
              "                       n_estimators=100, n_jobs=None, oob_score=False,\n",
              "                       random_state=None, verbose=0, warm_start=False),\n",
              " 'Ridge': Ridge(alpha=1.0, copy_X=True, fit_intercept=True, max_iter=None,\n",
              "       normalize=False, random_state=None, solver='auto', tol=0.001),\n",
              " 'SVR_linear': SVR(C=1.0, cache_size=200, coef0=0.0, degree=3, epsilon=0.1, gamma='scale',\n",
              "     kernel='linear', max_iter=-1, shrinking=True, tol=0.001, verbose=False),\n",
              " 'SVR_rbf': SVR(C=1.0, cache_size=200, coef0=0.0, degree=3, epsilon=0.1, gamma='scale',\n",
              "     kernel='rbf', max_iter=-1, shrinking=True, tol=0.001, verbose=False)}"
            ]
          },
          "metadata": {},
          "execution_count": 264
        }
      ]
    },
    {
      "cell_type": "code",
      "metadata": {
        "colab": {
          "base_uri": "https://localhost:8080/"
        },
        "id": "4JJZSt7pAbto",
        "outputId": "28d474db-40bc-4502-a51f-3c3cf82db47b"
      },
      "source": [
        "for model_name, model in regression_models.items():\n",
        "  model_pipeline = Pipeline(steps=[(\"preprocessor\", preprocessor),\n",
        "                            (\"model\", model)])\n",
        "  print(f\"Fitting {model_name}...\")\n",
        "  model_pipeline.fit(car_X_train, car_y_train)\n",
        "\n",
        "\n",
        "  print(f\"Scoring {model_name}...\")\n",
        "  regression_results[model_name] = model_pipeline.score(car_X_test, car_y_test)"
      ],
      "execution_count": 265,
      "outputs": [
        {
          "output_type": "stream",
          "name": "stdout",
          "text": [
            "Fitting Ridge...\n",
            "Scoring Ridge...\n",
            "Fitting SVR_linear...\n",
            "Scoring SVR_linear...\n",
            "Fitting SVR_rbf...\n",
            "Scoring SVR_rbf...\n",
            "Fitting RandomForestRegressor...\n",
            "Scoring RandomForestRegressor...\n"
          ]
        }
      ]
    },
    {
      "cell_type": "code",
      "metadata": {
        "colab": {
          "base_uri": "https://localhost:8080/"
        },
        "id": "Ektyd0n1T3nR",
        "outputId": "bedeaa27-301b-43d5-b83d-54253cf24ea7"
      },
      "source": [
        "print(regression_results) #be default I get score() in this cell"
      ],
      "execution_count": 266,
      "outputs": [
        {
          "output_type": "stream",
          "name": "stdout",
          "text": [
            "{'Ridge': 0.25387554878315055, 'SVR_linear': 0.08555518343236379, 'SVR_rbf': 0.0018786027505235392, 'RandomForestRegressor': 0.2238638294084273}\n"
          ]
        }
      ]
    },
    {
      "cell_type": "code",
      "metadata": {
        "id": "OHJ1-Nk1VjPt"
      },
      "source": [
        "#Importing those to find out the difference between model prediction and actual answer \n",
        "from sklearn.metrics import mean_absolute_error\n",
        "from sklearn.metrics import mean_squared_error\n",
        "from sklearn.metrics import r2_score"
      ],
      "execution_count": 275,
      "outputs": []
    },
    {
      "cell_type": "code",
      "metadata": {
        "id": "12CgyOKXWvjW"
      },
      "source": [
        "ridge_pipeline = Pipeline(steps=[(\"preprocessor\", preprocessor),\n",
        "                                 (\"model\", Ridge())])\n",
        "\n",
        "ridge_pipeline.fit(car_X_train,car_y_train)\n",
        "\n",
        "car_y_preds = ridge_pipeline.predict(car_X_test)"
      ],
      "execution_count": 276,
      "outputs": []
    },
    {
      "cell_type": "code",
      "metadata": {
        "colab": {
          "base_uri": "https://localhost:8080/"
        },
        "id": "6bRSwb9Vv4_Z",
        "outputId": "c25cfd68-e525-49cd-c74d-8e88913dce4c"
      },
      "source": [
        "mse = mean_squared_error(car_y_test, car_y_preds) #here I am not predicting but I am comparing \n",
        "mse\n",
        "#it's a squared value, it is why the number looks rediculous"
      ],
      "execution_count": 279,
      "outputs": [
        {
          "output_type": "execute_result",
          "data": {
            "text/plain": [
              "49960264.20503396"
            ]
          },
          "metadata": {},
          "execution_count": 279
        }
      ]
    },
    {
      "cell_type": "code",
      "metadata": {
        "colab": {
          "base_uri": "https://localhost:8080/"
        },
        "id": "GtDpZ4TmwjTp",
        "outputId": "4ae00057-53ea-40c2-ed4b-44cfda241518"
      },
      "source": [
        "mae = mean_absolute_error(car_y_test, car_y_preds)\n",
        "mae"
      ],
      "execution_count": 280,
      "outputs": [
        {
          "output_type": "execute_result",
          "data": {
            "text/plain": [
              "5714.468592363155"
            ]
          },
          "metadata": {},
          "execution_count": 280
        }
      ]
    },
    {
      "cell_type": "code",
      "metadata": {
        "colab": {
          "base_uri": "https://localhost:8080/"
        },
        "id": "5f3U4oHZxuOV",
        "outputId": "3b39d192-eb3b-48f1-fa84-54ed742a7f0f"
      },
      "source": [
        "r2 = r2_score(car_y_test, car_y_preds)\n",
        "r2"
      ],
      "execution_count": 281,
      "outputs": [
        {
          "output_type": "execute_result",
          "data": {
            "text/plain": [
              "0.25387554878315055"
            ]
          },
          "metadata": {},
          "execution_count": 281
        }
      ]
    }
  ]
}